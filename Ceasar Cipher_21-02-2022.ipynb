{
 "cells": [
  {
   "cell_type": "code",
   "execution_count": 2,
   "metadata": {},
   "outputs": [
    {
     "name": "stdout",
     "output_type": "stream",
     "text": [
      "Please enter your message :Free the prisoners with proper precautions being taken.\n",
      "Please enter key value :5\n",
      "kwjjymjuwnxtsjwxbnymuwtujwuwjhfzyntsxgjnslyfpjs"
     ]
    }
   ],
   "source": [
    "#@ sadam CSE-18-14\n",
    "user_msg = input(\"Please enter your message :\")\n",
    "key = input(\"Please enter key value :\")\n",
    "key = int(key)\n",
    "letters = ['a','b','c','d','e','f','g','h','i','j','k','l','m','n','o','p','q','r','s','t','u','v','w','x','y','z']\n",
    "mapping_ntod = {0:'a',1:'b',2:'c',3:'d',4:'e',5:'f',6:'g',7:'h',8:'i',9:'j',10:'k',11:'l',12:'m',13:'n',14:'o',15:'p',16:'q',17:'r',18:'s',19:'t',20:'u',21:'v',22:'w',23:'x',24:'y',25:'z'}\n",
    "mapping_dton = {'a':0,'b':1,'c':2,'d':3,'e':4,'f':5,'g':6,'h':7,'i':8,'j':9,'k':10,'l':11,'m':12,'n':13,'o':14,'p':15,'q':16,'r':17,'s':18,'t':19,'u':20,'v':21,'w':22,'x':23,'y':24,'z':25}\n",
    "enc_msg=[]\n",
    "user_msg = user_msg.lower();\n",
    "new_msg =\"\"\n",
    "for item in user_msg:\n",
    "    if item in letters:\n",
    "        new_msg = new_msg+item\n",
    "user_msg = new_msg\n",
    "for i in range(0,len(user_msg)):\n",
    "    tmp = (mapping_dton[user_msg[i]]+key)%26\n",
    "    enc_msg.append(mapping_ntod[tmp])\n",
    "for j in enc_msg:\n",
    "    print(j,end='')"
   ]
  },
  {
   "cell_type": "code",
   "execution_count": 4,
   "metadata": {},
   "outputs": [
    {
     "name": "stdout",
     "output_type": "stream",
     "text": [
      "freetheprisonerswithproperprecautionsbeingtaken"
     ]
    }
   ],
   "source": [
    "#dec\n",
    "dec_msg=[]\n",
    "for i in range(0,len(enc_msg)):\n",
    "    if (mapping_dton[enc_msg[i]]-key)>=0:\n",
    "        tmp1 = (mapping_dton[enc_msg[i]]-key)\n",
    "    else:\n",
    "        tmp1 = (mapping_dton[enc_msg[i]]-key)+26\n",
    "    dec_msg.append(mapping_ntod[tmp1])\n",
    "for j in dec_msg:\n",
    "    print(j,end=\"\")"
   ]
  }
 ],
 "metadata": {
  "kernelspec": {
   "display_name": "Python 3",
   "language": "python",
   "name": "python3"
  },
  "language_info": {
   "codemirror_mode": {
    "name": "ipython",
    "version": 3
   },
   "file_extension": ".py",
   "mimetype": "text/x-python",
   "name": "python",
   "nbconvert_exporter": "python",
   "pygments_lexer": "ipython3",
   "version": "3.8.5"
  }
 },
 "nbformat": 4,
 "nbformat_minor": 4
}
