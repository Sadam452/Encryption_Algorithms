{
 "cells": [
  {
   "cell_type": "markdown",
   "metadata": {},
   "source": [
    "<h3><mark>POLYFAIR CIPHER</mark></h3> <br><b>By sadam Hussain #26-02-2022</b>   "
   ]
  },
  {
   "cell_type": "code",
   "execution_count": 99,
   "metadata": {},
   "outputs": [
    {
     "name": "stdout",
     "output_type": "stream",
     "text": [
      "Please enter the key ::monarchy\n",
      "M O N A R \n",
      "C H Y B D \n",
      "E F G I K \n",
      "L P Q S T \n",
      "U V W X Z \n"
     ]
    }
   ],
   "source": [
    "#Generating 5 X 5 Table \n",
    "key = input(\"Please enter the key ::\")\n",
    "rows, cols = (5, 5)\n",
    "table = [[0 for i in range(cols)] for j in range(rows)]\n",
    "k,index = (0,0)\n",
    "letters = ['A','B','C','D','E','F','G','H','I','K','L','M','N','O','P','Q','R','S','T','U','V','W','X','Y','Z']\n",
    "key2=\"\"\n",
    "for item in key:\n",
    "    if item not in key2:\n",
    "        key2 = key2+item\n",
    "key = key2                    #Removing duplicate entries in key\n",
    "key = key.upper()\n",
    "if 'J' in key:            #if J is in key, replace i with j in letters[].\n",
    "    letters[8] = 'J'\n",
    "for i in range(0,5):\n",
    "    for j in range(0,5):\n",
    "        if k<len(key):\n",
    "            table[i][j] = key[k]\n",
    "            k = k+1\n",
    "        else:\n",
    "            for let in range(0,len(key)):\n",
    "                if letters[index] in key:\n",
    "                    index = index + 1\n",
    "            else:\n",
    "                table[i][j] = letters[index]\n",
    "                index = index + 1\n",
    "for outer in range(0,5):\n",
    "    for inner in range(0,5):\n",
    "        print(table[outer][inner],end=\" \")\n",
    "    print() "
   ]
  },
  {
   "cell_type": "code",
   "execution_count": 100,
   "metadata": {},
   "outputs": [
    {
     "name": "stdout",
     "output_type": "stream",
     "text": [
      "Enter message to encrypt :: instruments\n",
      "I N\n",
      "S T\n",
      "R U\n",
      "M E\n",
      "N T\n",
      "S X\n"
     ]
    }
   ],
   "source": [
    "plaintext = input(\"Enter message to encrypt :: \")\n",
    "plaintext = plaintext.upper()\n",
    "#Pay no attention to punctuation or to spaces between words\n",
    "plaintext_new =\"\"\n",
    "letters1 = ['A','B','C','D','E','F','G','H','I','j','K','L','M','N','O','P','Q','R','S','T','U','V','W','X','Y','Z']\n",
    "for item in plaintext: #removing special characters\n",
    "    if item in letters1:\n",
    "        plaintext_new = plaintext_new + item\n",
    "plaintext = plaintext_new\n",
    "#RULE 1: Repeating plaintext letters that are in same pair are separated with a filler letter at a time, such as X\n",
    "#so that ballon would be treated as \"ba lx lo on\"\n",
    "for item in range(0,len(plaintext)-1):\n",
    "    if item%2 == 0:\n",
    "        if plaintext[item] == plaintext[item+1]:\n",
    "            plaintext = plaintext[:item+1]+'X'+plaintext[item+1:]\n",
    "if len(plaintext)%2 != 0: #making length even\n",
    "    plaintext = plaintext+'X'\n",
    "for item in range(0,len(plaintext)-1):\n",
    "    if item%2 == 0:\n",
    "        print(plaintext[item],plaintext[item+1])"
   ]
  },
  {
   "cell_type": "code",
   "execution_count": 101,
   "metadata": {},
   "outputs": [],
   "source": [
    "#RULE 2,3,4:: Two plaintext letters that fall in the same row of the matrix are replced by the letter to the right with the first\n",
    "#element of the row circularly following the last. Simililarly column vise...\n",
    "#Otherwise each plaintext letter in a pair is replaced by the letter that lies in its own row and the column occupied by\n",
    "#the other plaintext letter.\n",
    "ciphertext = \"\"\n",
    "index = 0\n",
    "index_result = []\n",
    "for i in range(0, len(plaintext)):\n",
    "    for j in range(0,5):\n",
    "        for k in range(0,5):\n",
    "            if (table[j][k] == plaintext[i]):\n",
    "                index_result.extend([j,k])\n",
    "#encrypt according to above rules\n",
    "for item in range(0,len(index_result)-3,4):\n",
    "    if(index_result[item] == index_result[item+2]):\n",
    "        ciphertext = ciphertext + table[index_result[item]][(index_result[item+1]+1)%5]\n",
    "        ciphertext = ciphertext + table[index_result[item]][(index_result[item+3]+1)%5]\n",
    "    elif(index_result[item+1] == index_result[item+3]):\n",
    "        ciphertext = ciphertext + table[(index_result[item]+1)%5][index_result[item+1]]\n",
    "        ciphertext = ciphertext + table[(index_result[item+2]+1)%5][index_result[item+1]]\n",
    "    else:\n",
    "        ciphertext = ciphertext + table[index_result[item]][index_result[item+3]]\n",
    "        ciphertext = ciphertext + table[index_result[item+2]][index_result[item+1]]\n",
    "        "
   ]
  },
  {
   "cell_type": "code",
   "execution_count": 102,
   "metadata": {
    "scrolled": true
   },
   "outputs": [
    {
     "name": "stdout",
     "output_type": "stream",
     "text": [
      "GATLMZCLRQXA\n"
     ]
    }
   ],
   "source": [
    "print(ciphertext)"
   ]
  }
 ],
 "metadata": {
  "kernelspec": {
   "display_name": "Python 3",
   "language": "python",
   "name": "python3"
  },
  "language_info": {
   "codemirror_mode": {
    "name": "ipython",
    "version": 3
   },
   "file_extension": ".py",
   "mimetype": "text/x-python",
   "name": "python",
   "nbconvert_exporter": "python",
   "pygments_lexer": "ipython3",
   "version": "3.8.5"
  }
 },
 "nbformat": 4,
 "nbformat_minor": 4
}
